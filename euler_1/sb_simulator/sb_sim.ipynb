{
 "cells": [
  {
   "cell_type": "code",
   "execution_count": 1,
   "metadata": {},
   "outputs": [],
   "source": [
    "from time import sleep\n",
    "from timeit import default_timer as timer\n",
    "import serial"
   ]
  },
  {
   "cell_type": "code",
   "execution_count": 2,
   "metadata": {},
   "outputs": [],
   "source": [
    "#args\n",
    "ser_port = 'COM3'\n",
    "baud_rate = 256000\n",
    "filename = 'sensor_measurements.csv'\n",
    "ticks_per_second_mb = 1000"
   ]
  },
  {
   "cell_type": "code",
   "execution_count": 3,
   "metadata": {},
   "outputs": [],
   "source": [
    "class baro_data_t:\n",
    "    def __init__(self, pressure, temperature, ts):\n",
    "        self.pressure = pressure\n",
    "        self.temperature = temperature\n",
    "        self.ts = ts\n",
    "\n",
    "    def __str__(self):\n",
    "        fields = vars(self)\n",
    "        return ','.join([str(fields[item]) for item in fields])\n",
    "\n",
    "class imu_data_t:\n",
    "    def __init__(self, gyro_x, gyro_y, gyro_z, acc_x, acc_y, acc_z, ts):\n",
    "        self.gyro_x = gyro_x\n",
    "        self.gyro_y = gyro_y\n",
    "        self.gyro_z = gyro_z\n",
    "        self.acc_x = acc_x\n",
    "        self.acc_y = acc_y\n",
    "        self.acc_z = acc_z\n",
    "        self.ts = ts\n",
    "        \n",
    "    def __str__(self):\n",
    "        fields = vars(self)\n",
    "        return ','.join([str(fields[item]) for item in fields])\n",
    "        \n",
    "class sb_data_t:\n",
    "    def __init__(self, sb_id, baro_data, imu_data):\n",
    "        #self.sb_id = sb_id\n",
    "        self.baro_data = baro_data\n",
    "        self.imu_data = imu_data\n",
    "        \n",
    "    def __str__(self):\n",
    "        fields = vars(self)\n",
    "        return ';'.join([str(fields[item]) for item in fields])"
   ]
  },
  {
   "cell_type": "code",
   "execution_count": 4,
   "metadata": {},
   "outputs": [],
   "source": [
    "def update_values(last_readings, sensor_id, reading_type, ts, value):\n",
    "        if reading_type not in last_readings:\n",
    "            last_readings[reading_type] = {'sb_id_cnt': 0}\n",
    "            \n",
    "        if sensor_id not in last_readings[reading_type]:\n",
    "            last_readings[reading_type][sensor_id] = {'sb_id': last_readings[reading_type]['sb_id_cnt']}\n",
    "            last_readings[reading_type]['sb_id_cnt'] +=1\n",
    "            \n",
    "        last_readings[reading_type][sensor_id]['ts'] = ts\n",
    "        last_readings[reading_type][sensor_id]['value'] = value     "
   ]
  },
  {
   "cell_type": "code",
   "execution_count": 5,
   "metadata": {},
   "outputs": [],
   "source": [
    "def split_line(line_str):\n",
    "    split_line = line_str.split(',')\n",
    "    return split_line[1][:4], split_line[2], float(split_line[3]), float(split_line[4][1:-2])"
   ]
  },
  {
   "cell_type": "code",
   "execution_count": 6,
   "metadata": {},
   "outputs": [],
   "source": [
    "imu_data = imu_data_t(0, 0, 0, 0, 0, 0, 0)\n",
    "baro_data = baro_data_t(0, 0, 0)\n",
    "        \n",
    "boards = [sb_data_t(1, baro_data, imu_data),\n",
    "          sb_data_t(2, baro_data, imu_data),\n",
    "          sb_data_t(3, baro_data, imu_data)]\n",
    "\n",
    "def save_readings(all_readings, latest_readings, sending_delay):\n",
    "    #TODO: this needs to be modified if there are more reading types incoming\n",
    "    if 'acceleration_x' in latest_readings:\n",
    "        for board_id, board_values in latest_readings['acceleration_x'].items():\n",
    "            if board_id != 'sb_id_cnt':\n",
    "                board_idx = board_values['sb_id']\n",
    "                boards[board_idx].imu_data.acc_x = int(board_values['value']* 1000 / 9.81)\n",
    "                boards[board_idx].imu_data.ts = int(board_values['ts'] * ticks_per_second_mb)\n",
    "    if 'pressure' in latest_readings:\n",
    "        for board_id, board_values in latest_readings['pressure'].items():\n",
    "            if board_id != 'sb_id_cnt':\n",
    "                board_idx = board_values['sb_id']\n",
    "                boards[board_idx].baro_data.pressure = int(board_values['value'])\n",
    "                boards[board_idx].baro_data.ts = int(board_values['ts'] * ticks_per_second_mb)\n",
    "    if 'temperature' in latest_readings:\n",
    "        for board_id, board_values in latest_readings['temperature'].items():\n",
    "            if board_id != 'sb_id_cnt':\n",
    "                board_idx = board_values['sb_id']\n",
    "                boards[board_idx].baro_data.temperature = int(board_values['value'])\n",
    "                boards[board_idx].baro_data.ts = int(board_values['ts'] * ticks_per_second_mb)\n",
    "    out_str = f\"{'|'.join(list(map(str, boards)))}\\n\".ljust(128)[:128]\n",
    "    all_readings.append((out_str.encode(), sending_delay))\n",
    "    #print(out_str)"
   ]
  },
  {
   "cell_type": "code",
   "execution_count": 7,
   "metadata": {},
   "outputs": [],
   "source": [
    "def get_all_readings(filename):\n",
    "    all_readings = []\n",
    "    with open(filename, 'r') as f:\n",
    "        #ignore header\n",
    "        f.readline()\n",
    "        last_readings = {}\n",
    "        \n",
    "        prev_sensor_id, prev_reading_type, prev_ts, prev_value = split_line(f.readline())\n",
    "        update_values(last_readings, prev_sensor_id, prev_reading_type, prev_ts, prev_value)\n",
    "        for line in f:\n",
    "            sensor_id, reading_type, ts, value = split_line(line)\n",
    "            while prev_ts == ts:\n",
    "                update_values(last_readings, sensor_id, reading_type, ts, value)\n",
    "                prev_sensor_id, prev_reading_type, prev_ts, prev_value = sensor_id, reading_type, ts, value\n",
    "                try:\n",
    "                    next_line = next(f)\n",
    "                except StopIteration:\n",
    "                    print('LAST ROW READ - That one probably not sent :(')\n",
    "                    break\n",
    "                sensor_id, reading_type, ts, value = split_line(next_line)\n",
    "            else:\n",
    "                #sending delay is the delay between the current and previous timestamp\n",
    "                #save_readings(all_readings, last_readings, ts-prev_ts)\n",
    "                save_readings(all_readings, last_readings, 0.01)\n",
    "                update_values(last_readings, sensor_id, reading_type, ts, value)\n",
    "\n",
    "            prev_sensor_id, prev_reading_type, prev_ts, prev_value = sensor_id, reading_type, ts, value\n",
    "    return all_readings"
   ]
  },
  {
   "cell_type": "code",
   "execution_count": 8,
   "metadata": {},
   "outputs": [
    {
     "name": "stdout",
     "output_type": "stream",
     "text": [
      "LAST ROW READ - That one probably not sent :(\n",
      "Sent 1000. Current Max: 0.022783900000000086, Current Avg. 0.0008466936999999866\n"
     ]
    },
    {
     "ename": "KeyboardInterrupt",
     "evalue": "",
     "output_type": "error",
     "traceback": [
      "\u001b[1;31m---------------------------------------------------------------------------\u001b[0m",
      "\u001b[1;31mKeyboardInterrupt\u001b[0m                         Traceback (most recent call last)",
      "\u001b[1;32m<ipython-input-8-70980a927031>\u001b[0m in \u001b[0;36m<module>\u001b[1;34m()\u001b[0m\n\u001b[0;32m     10\u001b[0m         \u001b[0mtransmission_time\u001b[0m \u001b[1;33m=\u001b[0m \u001b[0mend\u001b[0m \u001b[1;33m-\u001b[0m \u001b[0mstart\u001b[0m\u001b[1;33m\u001b[0m\u001b[0m\n\u001b[0;32m     11\u001b[0m         \u001b[1;32mif\u001b[0m \u001b[0mtransmission_time\u001b[0m \u001b[1;33m<\u001b[0m \u001b[0msending_delay\u001b[0m\u001b[1;33m:\u001b[0m\u001b[1;33m\u001b[0m\u001b[0m\n\u001b[1;32m---> 12\u001b[1;33m             \u001b[0msleep\u001b[0m\u001b[1;33m(\u001b[0m\u001b[1;33m(\u001b[0m\u001b[0msending_delay\u001b[0m \u001b[1;33m-\u001b[0m \u001b[0mtransmission_time\u001b[0m\u001b[1;33m)\u001b[0m\u001b[1;33m)\u001b[0m\u001b[1;33m\u001b[0m\u001b[0m\n\u001b[0m\u001b[0;32m     13\u001b[0m         \u001b[0mend0\u001b[0m \u001b[1;33m=\u001b[0m \u001b[0mtimer\u001b[0m\u001b[1;33m(\u001b[0m\u001b[1;33m)\u001b[0m\u001b[1;33m\u001b[0m\u001b[0m\n\u001b[0;32m     14\u001b[0m         \u001b[0mdelay_diff\u001b[0m \u001b[1;33m=\u001b[0m \u001b[1;33m(\u001b[0m\u001b[0mend0\u001b[0m \u001b[1;33m-\u001b[0m \u001b[0mstart\u001b[0m\u001b[1;33m)\u001b[0m \u001b[1;33m-\u001b[0m \u001b[0msending_delay\u001b[0m\u001b[1;33m\u001b[0m\u001b[0m\n",
      "\u001b[1;31mKeyboardInterrupt\u001b[0m: "
     ]
    }
   ],
   "source": [
    "all_readings = get_all_readings(filename)\n",
    "max_diff = 0\n",
    "sum_diff = 0\n",
    "cnt = 0\n",
    "with serial.Serial(ser_port, baud_rate, timeout = 4) as ser:\n",
    "    for reading, sending_delay in all_readings:\n",
    "        start = timer()\n",
    "        ser.write(reading)\n",
    "        end = timer()\n",
    "        transmission_time = end - start\n",
    "        if transmission_time < sending_delay:\n",
    "            sleep((sending_delay - transmission_time))\n",
    "        end0 = timer()\n",
    "        delay_diff = (end0 - start) - sending_delay\n",
    "        max_diff = max(max_diff, delay_diff)\n",
    "        sum_diff += delay_diff\n",
    "        cnt += 1\n",
    "        if cnt % 1000 == 0:\n",
    "            print(f'Sent {cnt}. Current Max: {max_diff}, Current Avg. {sum_diff / cnt}')\n",
    "print('Simulation ended.')\n",
    "print(f'Max delay: {max_diff}, Avg delay: {sum_diff / len(all_readings)}')"
   ]
  },
  {
   "cell_type": "code",
   "execution_count": null,
   "metadata": {},
   "outputs": [],
   "source": []
  }
 ],
 "metadata": {
  "kernelspec": {
   "display_name": "Python 3",
   "language": "python",
   "name": "python3"
  },
  "language_info": {
   "codemirror_mode": {
    "name": "ipython",
    "version": 3
   },
   "file_extension": ".py",
   "mimetype": "text/x-python",
   "name": "python",
   "nbconvert_exporter": "python",
   "pygments_lexer": "ipython3",
   "version": "3.6.5"
  }
 },
 "nbformat": 4,
 "nbformat_minor": 2
}
